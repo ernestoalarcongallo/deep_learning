{
 "cells": [
  {
   "cell_type": "code",
   "execution_count": 19,
   "id": "1a875c01-bb42-4bbc-a118-5c0c9ba2ac3f",
   "metadata": {},
   "outputs": [],
   "source": [
    "import os\n",
    "import time\n",
    "import yaml\n",
    "from collections import Counter\n",
    "\n",
    "import pandas as pd\n",
    "import numpy as np\n",
    "from sklearn.utils import shuffle\n",
    "from scipy.sparse import lil_matrix,csr_matrix, save_npz, load_npz\n",
    "import keras.backend as K\n",
    "from tensorflow.keras.callbacks import TensorBoard\n",
    "from tensorflow.keras.optimizers import Adam\n",
    "from keras.callbacks import EarlyStopping\n",
    "from keras.callbacks import ModelCheckpoint\n",
    "from keras.models import Model\n",
    "from keras.layers import Input, Dropout, Dense\n",
    "from keras.regularizers import l2\n",
    "from keras.optimizers import SGD\n",
    "import matplotlib.pyplot as plt"
   ]
  },
  {
   "cell_type": "code",
   "execution_count": 2,
   "id": "c7acaa1f-5eb2-4476-9a69-e114d5e13fad",
   "metadata": {},
   "outputs": [],
   "source": [
    "# Generate the folders for the project\n",
    "output_path = 'output'\n",
    "input_path = 'input'\n",
    "models_dir = os.path.join(output_path, 'models')\n",
    "\n",
    "if not os.path.exists(output_path):\n",
    "    os.makedirs(output_path)\n",
    "    \n",
    "if not os.path.exists(input_path):\n",
    "    os.makedirs(input_path)\n",
    "    \n",
    "if not os.path.exists(models_dir):\n",
    "    os.makedirs(models_dir)"
   ]
  },
  {
   "cell_type": "code",
   "execution_count": 3,
   "id": "e3ee1b6a-1d7d-4182-8cb9-faef338d770d",
   "metadata": {},
   "outputs": [],
   "source": [
    "# Download the dataset if not existing\n",
    "!wget -nc http://files.grouplens.org/datasets/movielens/ml-20m.zip\n",
    "!unzip -n ml-20m.zip"
   ]
  },
  {
   "cell_type": "code",
   "execution_count": 4,
   "id": "4f897f51-618b-4249-b934-2fd603999c17",
   "metadata": {
    "tags": []
   },
   "outputs": [],
   "source": [
    "# Preprocessing step\n",
    "try:\n",
    "    # Try reading the preprocessed file if existing, if not generate\n",
    "    ratings_df = pd.read_csv(os.path.join(input_path, 'ratings_preprocessed.csv'))\n",
    "except:\n",
    "    # Read the original file\n",
    "    ratings_df = pd.read_csv(os.path.join('ml-20m', 'ratings.csv'))\n",
    "    # Make the userId start from zero\n",
    "    ratings_df['userId'] = ratings_df['userId'] - 1\n",
    "    # No need the timestamp of the rating\n",
    "    ratings_df.drop(columns=['timestamp'], inplace=True)\n",
    "    # Save the new ratings_df\n",
    "    ratings_df.to_csv(os.path.join(input_path, 'ratings_preprocessed.csv'), index=False)"
   ]
  },
  {
   "cell_type": "code",
   "execution_count": 5,
   "id": "a42085d5-5f35-4c39-9af3-a99be03a6363",
   "metadata": {},
   "outputs": [],
   "source": [
    "# Set the subset data from the generic dataset to adapt the training to the hardware size\n",
    "n = None # 10000\n",
    "m = None # 2000\n",
    "\n",
    "if n != None and m != None:\n",
    "    # Get counter objects to evaluate frequency per userId an movieId\n",
    "    user_id_count = Counter(ratings_df['userId'])\n",
    "    movie_id_count = Counter(ratings_df['userId'])\n",
    "    \n",
    "    # Get the n and m most common userId and movieIf\n",
    "    user_ids = [user for user, count in user_id_count.most_common(n)]\n",
    "    movie_ids = [movie for movie, count in movie_id_count.most_common(m)]\n",
    "    \n",
    "    # Filter the dataset according the list of shrinked users and movies\n",
    "    ratings_lite_df = ratings_df[ratings_df['userId'].isin(user_ids) & \n",
    "                                 ratings_df['movieId'].isin(movie_ids)].reset_index().copy()\n",
    "\n",
    "    # Generate a new mapping adapted to the number of users to adapt the size of the sparse matrix\n",
    "    new_user_id_map = {old: i for i, old in enumerate(user_ids)}\n",
    "    new_movie_id_map = {old: j for j, old in enumerate(movie_ids)}\n",
    "\n",
    "    # Rename the ids of movies and users\n",
    "    ratings_lite_df.loc[:, 'userId'] = ratings_lite_df.apply(lambda row: new_user_id_map[row['userId']], axis=1)\n",
    "    ratings_lite_df.loc[:, 'movieId'] = ratings_lite_df.apply(lambda row: new_movie_id_map[row['movieId']], axis=1)\n",
    "else:\n",
    "    # In case of using all users and movies just copy the df\n",
    "    ratings_lite_df = ratings_df.copy()"
   ]
  },
  {
   "cell_type": "code",
   "execution_count": 6,
   "id": "b998738b-342c-459a-824e-333a4d9bc489",
   "metadata": {},
   "outputs": [
    {
     "data": {
      "text/plain": [
       "(138493, 131263)"
      ]
     },
     "execution_count": 6,
     "metadata": {},
     "output_type": "execute_result"
    }
   ],
   "source": [
    "N = ratings_lite_df['userId'].max() + 1\n",
    "M = ratings_lite_df['movieId'].max() + 1\n",
    "\n",
    "N, M"
   ]
  },
  {
   "cell_type": "code",
   "execution_count": 7,
   "id": "df930687-af8b-4edc-aa62-f517c5fa9ca8",
   "metadata": {},
   "outputs": [],
   "source": [
    "def make_sparse_matrix(N, M, df):\n",
    "    A = lil_matrix((N, M))\n",
    "    \n",
    "    def update_sparse_matrix(row):\n",
    "        i = int(row['userId'])\n",
    "        j = int(row['movieId'])\n",
    "        \n",
    "        A[i, j] = row['rating']\n",
    "        \n",
    "    df.apply(update_sparse_matrix, axis=1)\n",
    "    \n",
    "    return A"
   ]
  },
  {
   "cell_type": "code",
   "execution_count": 8,
   "id": "02c5e10d-400a-48d0-a347-f4f63b271edc",
   "metadata": {},
   "outputs": [],
   "source": [
    "# Create the sparse matrix for train and test\n",
    "# lil better for adding new values, csr better for saving\n",
    "df = shuffle(ratings_lite_df)\n",
    "\n",
    "cut_off = int(0.8 * len(df.index))\n",
    "df_train = df.iloc[:cut_off]\n",
    "df_test = df.iloc[cut_off:]\n",
    "\n",
    "A_train = make_sparse_matrix(N, M, df_train)\n",
    "A_train = A_train.tocsr()\n",
    "mask_train = (A_train > 0) * 1.0\n",
    "save_npz(os.path.join(input_path, 'A_train.npz'), A_train)\n",
    "\n",
    "A_test = make_sparse_matrix(N, M, df_test)\n",
    "A_test = A_test.tocsr()\n",
    "mask_test = (A_test > 0) * 1.0\n",
    "save_npz(os.path.join(input_path, 'A_test.npz'), A_test)"
   ]
  },
  {
   "cell_type": "code",
   "execution_count": 18,
   "id": "1453f799-fad3-4bc3-9832-cb5fd729c51e",
   "metadata": {},
   "outputs": [],
   "source": [
    "batch_size = 128\n",
    "epochs = 20\n",
    "regularization = 1e-4\n",
    "dropout = 0.7\n",
    "units_l1 = 700\n",
    "activation_func = 'tanh'\n",
    "optimizer_func_name = 'adam'\n",
    "learning_rate = 0.001\n",
    "optimizer_func = Adam(learning_rate=learning_rate)\n",
    "loss_func = 'mse_loss'"
   ]
  },
  {
   "cell_type": "code",
   "execution_count": 10,
   "id": "0be33388-fbe8-457b-a4a1-519399c88512",
   "metadata": {},
   "outputs": [
    {
     "name": "stdout",
     "output_type": "stream",
     "text": [
      "3.5253482610540736\n"
     ]
    }
   ],
   "source": [
    "# global rating  = Sum of ratings / number of ratings \n",
    "mu = A_train.sum() / mask_train.sum()\n",
    "\n",
    "print(mu)"
   ]
  },
  {
   "cell_type": "code",
   "execution_count": 11,
   "id": "d7e64db8-0476-47c0-abc0-047a3fe45525",
   "metadata": {},
   "outputs": [],
   "source": [
    "def mse_loss(y_true, y_pred):\n",
    "    # We need to ensure that any square difference that doesn't \n",
    "    # come from ratings could contribute to the cost.\n",
    "    mask = K.cast(K.not_equal(y_true, 0), dtype='float32')\n",
    "    diff = y_pred - y_true\n",
    "    sqdiff = diff * diff * mask\n",
    "    sse = K.sum(K.sum(sqdiff))\n",
    "    n = K.sum(K.sum(mask))\n",
    "    \n",
    "    return sse / n\n",
    "\n",
    "def generator_train(A, M):\n",
    "    while True:\n",
    "        # Conveninetly shuffled before the training\n",
    "        A, M = shuffle(A, M)\n",
    "        #  For each step in the number of batch steps\n",
    "        for i in range(A.shape[0] // batch_size + 1):\n",
    "            # Make the moving upper step\n",
    "            upper = min((i+1) * batch_size, A.shape[0])\n",
    "            # Crop the batch to generate from the A matrix\n",
    "            a = A[i*batch_size: upper].toarray()\n",
    "            m = M[i*batch_size: upper].toarray()\n",
    "            # Subtract the global average rating to center the data (working with deviations over mu) \n",
    "            a = a - mu * m\n",
    "            # There's no need to create a noisy_a since we use the Dropout later on\n",
    "\n",
    "            yield a, a \n",
    "\n",
    "def generator_test(A, M, A_test, M_test):\n",
    "    while True:\n",
    "        #  For each step in the nmber of batch steps\n",
    "        for i in range(A.shape[0] // batch_size + 1):\n",
    "            # Make the moving upper step\n",
    "            upper = min((i+1) * batch_size, A.shape[0])\n",
    "            # Crop the batch to generate from the A matrix\n",
    "            a = A[i*batch_size: upper].toarray()\n",
    "            m = M[i*batch_size: upper].toarray()\n",
    "            at = A_test[i*batch_size: upper].toarray()\n",
    "            mt = M_test[i*batch_size: upper].toarray()\n",
    "            # Subtract the global average rating to center the data (working with deviations over mu) \n",
    "            a = a - mu * m\n",
    "            at = at - mu * mt\n",
    "\n",
    "            yield a, at"
   ]
  },
  {
   "cell_type": "code",
   "execution_count": 12,
   "id": "6a995739-a279-43ea-abf3-2261daff841e",
   "metadata": {},
   "outputs": [],
   "source": [
    "i = Input(shape=(M,))\n",
    "x = Dropout(dropout)(i) # this will add the noise for the autoencoder, droping some ratings.\n",
    "x = Dense(units_l1, activation=activation_func, kernel_regularizer=l2(regularization))(x)\n",
    "x = Dense(M, kernel_regularizer=l2(regularization))(x)\n",
    "\n",
    "model = Model(i, x)\n",
    "model.compile(\n",
    "    loss=mse_loss,\n",
    "    optimizer=optimizer_func,\n",
    "    metrics=[mse_loss],\n",
    ")"
   ]
  },
  {
   "cell_type": "code",
   "execution_count": 13,
   "id": "cb6c3b0b-9aaf-41ce-9140-d0b575cd06a4",
   "metadata": {
    "tags": []
   },
   "outputs": [
    {
     "name": "stdout",
     "output_type": "stream",
     "text": [
      "Epoch 1/20\n",
      "1082/1082 [==============================] - 1319s 1s/step - loss: 0.8388 - mse_loss: 0.6870 - val_loss: 0.8910 - val_mse_loss: 0.7033\n",
      "Epoch 2/20\n",
      "1082/1082 [==============================] - 1318s 1s/step - loss: 0.8304 - mse_loss: 0.6366 - val_loss: 0.8826 - val_mse_loss: 0.6952\n",
      "Epoch 3/20\n",
      "1082/1082 [==============================] - 1306s 1s/step - loss: 0.8277 - mse_loss: 0.6308 - val_loss: 0.8882 - val_mse_loss: 0.6923\n",
      "Epoch 4/20\n",
      "1082/1082 [==============================] - 1309s 1s/step - loss: 0.8259 - mse_loss: 0.6284 - val_loss: 0.8821 - val_mse_loss: 0.6917\n",
      "Epoch 5/20\n",
      "1082/1082 [==============================] - 1300s 1s/step - loss: 0.8234 - mse_loss: 0.6271 - val_loss: 0.9015 - val_mse_loss: 0.6916\n",
      "Epoch 6/20\n",
      "1082/1082 [==============================] - 1298s 1s/step - loss: 0.8255 - mse_loss: 0.6270 - val_loss: 0.8973 - val_mse_loss: 0.6903\n",
      "Epoch 7/20\n",
      "1082/1082 [==============================] - 1312s 1s/step - loss: 0.8230 - mse_loss: 0.6253 - val_loss: 0.8801 - val_mse_loss: 0.6887\n",
      "Epoch 8/20\n",
      "1082/1082 [==============================] - 1306s 1s/step - loss: 0.8191 - mse_loss: 0.6252 - val_loss: 0.9084 - val_mse_loss: 0.6898\n",
      "Epoch 9/20\n",
      "1082/1082 [==============================] - 1313s 1s/step - loss: 0.8229 - mse_loss: 0.6246 - val_loss: 0.9004 - val_mse_loss: 0.6879\n",
      "Epoch 10/20\n",
      "1082/1082 [==============================] - 1334s 1s/step - loss: 0.8209 - mse_loss: 0.6242 - val_loss: 0.8779 - val_mse_loss: 0.6886\n",
      "Epoch 11/20\n",
      "1082/1082 [==============================] - 1305s 1s/step - loss: 0.8203 - mse_loss: 0.6239 - val_loss: 0.8788 - val_mse_loss: 0.6868\n",
      "Epoch 12/20\n",
      "1082/1082 [==============================] - 1307s 1s/step - loss: 0.8221 - mse_loss: 0.6244 - val_loss: 0.8730 - val_mse_loss: 0.6858\n",
      "Epoch 13/20\n",
      "1082/1082 [==============================] - 1297s 1s/step - loss: 0.8167 - mse_loss: 0.6227 - val_loss: 0.8827 - val_mse_loss: 0.6857\n",
      "Epoch 14/20\n",
      "1082/1082 [==============================] - 1297s 1s/step - loss: 0.8181 - mse_loss: 0.6228 - val_loss: 0.8836 - val_mse_loss: 0.6882\n",
      "Epoch 15/20\n",
      "1082/1082 [==============================] - 1296s 1s/step - loss: 0.8168 - mse_loss: 0.6223 - val_loss: 0.8736 - val_mse_loss: 0.6849\n",
      "Epoch 16/20\n",
      "1082/1082 [==============================] - 1296s 1s/step - loss: 0.8169 - mse_loss: 0.6228 - val_loss: 0.8806 - val_mse_loss: 0.6859\n",
      "Epoch 17/20\n",
      "1082/1082 [==============================] - 1306s 1s/step - loss: 0.8188 - mse_loss: 0.6221 - val_loss: 0.8674 - val_mse_loss: 0.6852\n",
      "Epoch 18/20\n",
      "1082/1082 [==============================] - 1298s 1s/step - loss: 0.8153 - mse_loss: 0.6217 - val_loss: 0.8763 - val_mse_loss: 0.6850\n",
      "Epoch 19/20\n",
      "1082/1082 [==============================] - 1296s 1s/step - loss: 0.8148 - mse_loss: 0.6224 - val_loss: 0.8718 - val_mse_loss: 0.6844\n",
      "Epoch 20/20\n",
      "1082/1082 [==============================] - 1296s 1s/step - loss: 0.8149 - mse_loss: 0.6218 - val_loss: 0.8818 - val_mse_loss: 0.6867\n"
     ]
    }
   ],
   "source": [
    "timestamp = time.strftime('run_%Y_%m_%d-%H_%M_%S')\n",
    "run_logdir = os.path.join(output_path, 'runs', timestamp)\n",
    "\n",
    "if not os.path.exists(run_logdir):\n",
    "    os.makedirs(run_logdir)\n",
    "    \n",
    "callbacks_list = [\n",
    "    EarlyStopping(monitor='val_loss', patience=5),\n",
    "    ModelCheckpoint(filepath=os.path.join(models_dir, f'model_{timestamp}.h5'), monitor='val_loss', save_best_only=True),\n",
    "    TensorBoard(run_logdir)\n",
    "]\n",
    "\n",
    "history = model.fit(\n",
    "    generator_train(A_train.copy(), mask_train.copy()),\n",
    "    validation_data=generator_test(A_train.copy(), mask_train.copy(), A_test.copy(), mask_test.copy()),\n",
    "    epochs=epochs,\n",
    "    steps_per_epoch=A_train.shape[0] // batch_size + 1,\n",
    "    validation_steps=A_test.shape[0] // batch_size + 1,\n",
    "    callbacks=callbacks_list\n",
    ")"
   ]
  },
  {
   "cell_type": "code",
   "execution_count": 14,
   "id": "c528ca39-14a9-429e-bbdc-6df4c2532ace",
   "metadata": {},
   "outputs": [],
   "source": [
    "dict_file = {\n",
    "    'N': int(N),\n",
    "    'M': int(M),\n",
    "    'batch_size': batch_size,\n",
    "    'epochs': epochs, \n",
    "    'regularization': regularization,\n",
    "    'dropout': dropout,\n",
    "    'units_l1': units_l1,\n",
    "    'activation_func': activation_func,\n",
    "    'optimizer_func': optimizer_func_name,\n",
    "    'loss_func': loss_func\n",
    "}\n",
    "\n",
    "with open(os.path.join(output_path, 'models', f'{timestamp}.yml'), 'w') as file:\n",
    "    documents = yaml.dump(dict_file, file)"
   ]
  },
  {
   "cell_type": "code",
   "execution_count": 16,
   "id": "dd8019f1-8393-4a52-93df-3fead1e0b6e2",
   "metadata": {},
   "outputs": [
    {
     "data": {
      "image/png": "[encoded data removed]",
      "text/plain": [
       "<Figure size 640x480 with 1 Axes>"
      ]
     },
     "metadata": {},
     "output_type": "display_data"
    }
   ],
   "source": [
    "plt.plot(history.history['loss'], label='train loss')\n",
    "plt.plot(history.history['val_loss'], label='test loss')\n",
    "plt.legend()\n",
    "plt.show()"
   ]
  },
  {
   "cell_type": "code",
   "execution_count": 17,
   "id": "7c60bb41-83ca-433c-ab88-56e01326a946",
   "metadata": {},
   "outputs": [
    {
     "data": {
      "image/png": "[encoded data removed]",
      "text/plain": [
       "<Figure size 640x480 with 1 Axes>"
      ]
     },
     "metadata": {},
     "output_type": "display_data"
    }
   ],
   "source": [
    "plt.plot(history.history['mse_loss'], label='train mse')\n",
    "plt.plot(history.history['val_mse_loss'], label='test mse')\n",
    "plt.legend()\n",
    "plt.show()"
   ]
  }
 ],
 "metadata": {
  "kernelspec": {
   "display_name": "Python 3 (ipykernel)",
   "language": "python",
   "name": "python3"
  },
  "language_info": {
   "codemirror_mode": {
    "name": "ipython",
    "version": 3
   },
   "file_extension": ".py",
   "mimetype": "text/x-python",
   "name": "python",
   "nbconvert_exporter": "python",
   "pygments_lexer": "ipython3",
   "version": "3.10.6"
  }
 },
 "nbformat": 4,
 "nbformat_minor": 5
}
